{
 "cells": [
  {
   "cell_type": "code",
   "execution_count": 1,
   "metadata": {},
   "outputs": [
    {
     "name": "stdout",
     "output_type": "stream",
     "text": [
      "/Users/tillschaland/Project/Gutemberg-Graph-Network/gutenbergCorpus\n"
     ]
    }
   ],
   "source": [
    "%cd /Users/tillschaland/Project/Gutemberg-Graph-Network/GutenbergCorpus/"
   ]
  },
  {
   "cell_type": "code",
   "execution_count": 2,
   "metadata": {},
   "outputs": [],
   "source": [
    "import pandas as pd\n",
    "import  os\n",
    "import definitions"
   ]
  },
  {
   "cell_type": "code",
   "execution_count": 3,
   "metadata": {},
   "outputs": [],
   "source": [
    "df  = pd.read_csv(\"./metadata/metadata.csv\")"
   ]
  },
  {
   "cell_type": "code",
   "execution_count": 4,
   "metadata": {},
   "outputs": [],
   "source": [
    "df = pd.read_json(\"./data/checkpoint/temporarydocs.json\")"
   ]
  },
  {
   "cell_type": "code",
   "execution_count": 5,
   "metadata": {},
   "outputs": [
    {
     "data": {
      "text/html": [
       "<div>\n",
       "<style scoped>\n",
       "    .dataframe tbody tr th:only-of-type {\n",
       "        vertical-align: middle;\n",
       "    }\n",
       "\n",
       "    .dataframe tbody tr th {\n",
       "        vertical-align: top;\n",
       "    }\n",
       "\n",
       "    .dataframe thead th {\n",
       "        text-align: right;\n",
       "    }\n",
       "</style>\n",
       "<table border=\"1\" class=\"dataframe\">\n",
       "  <thead>\n",
       "    <tr style=\"text-align: right;\">\n",
       "      <th></th>\n",
       "      <th>id</th>\n",
       "      <th>title</th>\n",
       "      <th>author</th>\n",
       "      <th>authoryearofbirth</th>\n",
       "      <th>authoryearofdeath</th>\n",
       "      <th>language</th>\n",
       "      <th>downloads</th>\n",
       "      <th>subjects</th>\n",
       "      <th>type</th>\n",
       "      <th>text</th>\n",
       "      <th>paras</th>\n",
       "    </tr>\n",
       "  </thead>\n",
       "  <tbody>\n",
       "    <tr>\n",
       "      <th>0</th>\n",
       "      <td>PG58423</td>\n",
       "      <td>Eight Girls and a Dog</td>\n",
       "      <td>Wells, Carolyn</td>\n",
       "      <td>1862.0</td>\n",
       "      <td>1942.0</td>\n",
       "      <td>['en']</td>\n",
       "      <td>22</td>\n",
       "      <td>{'Housekeeping -- Juvenile fiction', 'Amateur ...</td>\n",
       "      <td>NaN</td>\n",
       "      <td>Proofreaders Canada team at http://www.pgdpcan...</td>\n",
       "      <td>[Proofreaders Canada team at http://www.pgdpca...</td>\n",
       "    </tr>\n",
       "    <tr>\n",
       "      <th>1</th>\n",
       "      <td>PG11196</td>\n",
       "      <td>The Atlantic Monthly, Volume 04, No. 21, July,...</td>\n",
       "      <td>Various</td>\n",
       "      <td>NaN</td>\n",
       "      <td>NaN</td>\n",
       "      <td>['en']</td>\n",
       "      <td>6</td>\n",
       "      <td>{'American periodicals'}</td>\n",
       "      <td>NaN</td>\n",
       "      <td>Proofreaders\\n\\n\\n\\n\\n\\nTHE ATLANTIC MONTHLY.\\...</td>\n",
       "      <td>[Proofreaders, , , THE ATLANTIC MONTHLY., A MA...</td>\n",
       "    </tr>\n",
       "    <tr>\n",
       "      <th>2</th>\n",
       "      <td>PG65290</td>\n",
       "      <td>Among the Lindens</td>\n",
       "      <td>Raymond, Evelyn</td>\n",
       "      <td>1843.0</td>\n",
       "      <td>1910.0</td>\n",
       "      <td>['en']</td>\n",
       "      <td>8</td>\n",
       "      <td>{'New York (N.Y.) -- Juvenile fiction', 'Poor ...</td>\n",
       "      <td>NaN</td>\n",
       "      <td>\\n\\n\\n\\nAMONG THE LINDENS\\n\\n\\n\\n_By the Same ...</td>\n",
       "      <td>[, , AMONG THE LINDENS, , _By the Same Author....</td>\n",
       "    </tr>\n",
       "    <tr>\n",
       "      <th>3</th>\n",
       "      <td>PG68146</td>\n",
       "      <td>The vigilantes of Montana; Or, popular justice...</td>\n",
       "      <td>Dimsdale, Thos. J. (Thomas Josiah)</td>\n",
       "      <td>NaN</td>\n",
       "      <td>1866.0</td>\n",
       "      <td>['en']</td>\n",
       "      <td>32</td>\n",
       "      <td>{'Montana -- History -- 19th century', 'Fronti...</td>\n",
       "      <td>NaN</td>\n",
       "      <td>MONTANA ***\\n\\n\\n\\n\\n\\n  THE\\n  VIGILANTES OF ...</td>\n",
       "      <td>[MONTANA ***, , ,   THE\\n  VIGILANTES OF MONTA...</td>\n",
       "    </tr>\n",
       "    <tr>\n",
       "      <th>4</th>\n",
       "      <td>PG63199</td>\n",
       "      <td>Stories Pictures Tell. Book 6</td>\n",
       "      <td>Carpenter, Flora L. (Flora Leona)</td>\n",
       "      <td>1880.0</td>\n",
       "      <td>NaN</td>\n",
       "      <td>['en']</td>\n",
       "      <td>13</td>\n",
       "      <td>{'Painters', 'Painting'}</td>\n",
       "      <td>NaN</td>\n",
       "      <td>\\n\\n\\n\\n\\n\\n\\n\\n\\n                         STO...</td>\n",
       "      <td>[, , , , \\n                         STORIES PI...</td>\n",
       "    </tr>\n",
       "  </tbody>\n",
       "</table>\n",
       "</div>"
      ],
      "text/plain": [
       "        id                                              title  \\\n",
       "0  PG58423                              Eight Girls and a Dog   \n",
       "1  PG11196  The Atlantic Monthly, Volume 04, No. 21, July,...   \n",
       "2  PG65290                                  Among the Lindens   \n",
       "3  PG68146  The vigilantes of Montana; Or, popular justice...   \n",
       "4  PG63199                      Stories Pictures Tell. Book 6   \n",
       "\n",
       "                               author  authoryearofbirth  authoryearofdeath  \\\n",
       "0                      Wells, Carolyn             1862.0             1942.0   \n",
       "1                             Various                NaN                NaN   \n",
       "2                     Raymond, Evelyn             1843.0             1910.0   \n",
       "3  Dimsdale, Thos. J. (Thomas Josiah)                NaN             1866.0   \n",
       "4   Carpenter, Flora L. (Flora Leona)             1880.0                NaN   \n",
       "\n",
       "  language  downloads                                           subjects  \\\n",
       "0   ['en']         22  {'Housekeeping -- Juvenile fiction', 'Amateur ...   \n",
       "1   ['en']          6                           {'American periodicals'}   \n",
       "2   ['en']          8  {'New York (N.Y.) -- Juvenile fiction', 'Poor ...   \n",
       "3   ['en']         32  {'Montana -- History -- 19th century', 'Fronti...   \n",
       "4   ['en']         13                           {'Painters', 'Painting'}   \n",
       "\n",
       "   type                                               text  \\\n",
       "0   NaN  Proofreaders Canada team at http://www.pgdpcan...   \n",
       "1   NaN  Proofreaders\\n\\n\\n\\n\\n\\nTHE ATLANTIC MONTHLY.\\...   \n",
       "2   NaN  \\n\\n\\n\\nAMONG THE LINDENS\\n\\n\\n\\n_By the Same ...   \n",
       "3   NaN  MONTANA ***\\n\\n\\n\\n\\n\\n  THE\\n  VIGILANTES OF ...   \n",
       "4   NaN  \\n\\n\\n\\n\\n\\n\\n\\n\\n                         STO...   \n",
       "\n",
       "                                               paras  \n",
       "0  [Proofreaders Canada team at http://www.pgdpca...  \n",
       "1  [Proofreaders, , , THE ATLANTIC MONTHLY., A MA...  \n",
       "2  [, , AMONG THE LINDENS, , _By the Same Author....  \n",
       "3  [MONTANA ***, , ,   THE\\n  VIGILANTES OF MONTA...  \n",
       "4  [, , , , \\n                         STORIES PI...  "
      ]
     },
     "execution_count": 5,
     "metadata": {},
     "output_type": "execute_result"
    }
   ],
   "source": [
    "df.head()"
   ]
  },
  {
   "cell_type": "code",
   "execution_count": 6,
   "metadata": {},
   "outputs": [],
   "source": [
    "df = df.explode('paras')"
   ]
  },
  {
   "cell_type": "code",
   "execution_count": 7,
   "metadata": {},
   "outputs": [
    {
     "data": {
      "text/html": [
       "<div>\n",
       "<style scoped>\n",
       "    .dataframe tbody tr th:only-of-type {\n",
       "        vertical-align: middle;\n",
       "    }\n",
       "\n",
       "    .dataframe tbody tr th {\n",
       "        vertical-align: top;\n",
       "    }\n",
       "\n",
       "    .dataframe thead th {\n",
       "        text-align: right;\n",
       "    }\n",
       "</style>\n",
       "<table border=\"1\" class=\"dataframe\">\n",
       "  <thead>\n",
       "    <tr style=\"text-align: right;\">\n",
       "      <th></th>\n",
       "      <th>id</th>\n",
       "      <th>title</th>\n",
       "      <th>author</th>\n",
       "      <th>authoryearofbirth</th>\n",
       "      <th>authoryearofdeath</th>\n",
       "      <th>language</th>\n",
       "      <th>downloads</th>\n",
       "      <th>subjects</th>\n",
       "      <th>type</th>\n",
       "      <th>text</th>\n",
       "      <th>paras</th>\n",
       "    </tr>\n",
       "  </thead>\n",
       "  <tbody>\n",
       "    <tr>\n",
       "      <th>0</th>\n",
       "      <td>PG58423</td>\n",
       "      <td>Eight Girls and a Dog</td>\n",
       "      <td>Wells, Carolyn</td>\n",
       "      <td>1862.0</td>\n",
       "      <td>1942.0</td>\n",
       "      <td>['en']</td>\n",
       "      <td>22</td>\n",
       "      <td>{'Housekeeping -- Juvenile fiction', 'Amateur ...</td>\n",
       "      <td>NaN</td>\n",
       "      <td>Proofreaders Canada team at http://www.pgdpcan...</td>\n",
       "      <td>Proofreaders Canada team at http://www.pgdpcan...</td>\n",
       "    </tr>\n",
       "    <tr>\n",
       "      <th>0</th>\n",
       "      <td>PG58423</td>\n",
       "      <td>Eight Girls and a Dog</td>\n",
       "      <td>Wells, Carolyn</td>\n",
       "      <td>1862.0</td>\n",
       "      <td>1942.0</td>\n",
       "      <td>['en']</td>\n",
       "      <td>22</td>\n",
       "      <td>{'Housekeeping -- Juvenile fiction', 'Amateur ...</td>\n",
       "      <td>NaN</td>\n",
       "      <td>Proofreaders Canada team at http://www.pgdpcan...</td>\n",
       "      <td></td>\n",
       "    </tr>\n",
       "    <tr>\n",
       "      <th>0</th>\n",
       "      <td>PG58423</td>\n",
       "      <td>Eight Girls and a Dog</td>\n",
       "      <td>Wells, Carolyn</td>\n",
       "      <td>1862.0</td>\n",
       "      <td>1942.0</td>\n",
       "      <td>['en']</td>\n",
       "      <td>22</td>\n",
       "      <td>{'Housekeeping -- Juvenile fiction', 'Amateur ...</td>\n",
       "      <td>NaN</td>\n",
       "      <td>Proofreaders Canada team at http://www.pgdpcan...</td>\n",
       "      <td></td>\n",
       "    </tr>\n",
       "    <tr>\n",
       "      <th>0</th>\n",
       "      <td>PG58423</td>\n",
       "      <td>Eight Girls and a Dog</td>\n",
       "      <td>Wells, Carolyn</td>\n",
       "      <td>1862.0</td>\n",
       "      <td>1942.0</td>\n",
       "      <td>['en']</td>\n",
       "      <td>22</td>\n",
       "      <td>{'Housekeeping -- Juvenile fiction', 'Amateur ...</td>\n",
       "      <td>NaN</td>\n",
       "      <td>Proofreaders Canada team at http://www.pgdpcan...</td>\n",
       "      <td>EIGHT GIRLS AND\\n ...</td>\n",
       "    </tr>\n",
       "    <tr>\n",
       "      <th>0</th>\n",
       "      <td>PG58423</td>\n",
       "      <td>Eight Girls and a Dog</td>\n",
       "      <td>Wells, Carolyn</td>\n",
       "      <td>1862.0</td>\n",
       "      <td>1942.0</td>\n",
       "      <td>['en']</td>\n",
       "      <td>22</td>\n",
       "      <td>{'Housekeeping -- Juvenile fiction', 'Amateur ...</td>\n",
       "      <td>NaN</td>\n",
       "      <td>Proofreaders Canada team at http://www.pgdpcan...</td>\n",
       "      <td></td>\n",
       "    </tr>\n",
       "  </tbody>\n",
       "</table>\n",
       "</div>"
      ],
      "text/plain": [
       "        id                  title          author  authoryearofbirth  \\\n",
       "0  PG58423  Eight Girls and a Dog  Wells, Carolyn             1862.0   \n",
       "0  PG58423  Eight Girls and a Dog  Wells, Carolyn             1862.0   \n",
       "0  PG58423  Eight Girls and a Dog  Wells, Carolyn             1862.0   \n",
       "0  PG58423  Eight Girls and a Dog  Wells, Carolyn             1862.0   \n",
       "0  PG58423  Eight Girls and a Dog  Wells, Carolyn             1862.0   \n",
       "\n",
       "   authoryearofdeath language  downloads  \\\n",
       "0             1942.0   ['en']         22   \n",
       "0             1942.0   ['en']         22   \n",
       "0             1942.0   ['en']         22   \n",
       "0             1942.0   ['en']         22   \n",
       "0             1942.0   ['en']         22   \n",
       "\n",
       "                                            subjects  type  \\\n",
       "0  {'Housekeeping -- Juvenile fiction', 'Amateur ...   NaN   \n",
       "0  {'Housekeeping -- Juvenile fiction', 'Amateur ...   NaN   \n",
       "0  {'Housekeeping -- Juvenile fiction', 'Amateur ...   NaN   \n",
       "0  {'Housekeeping -- Juvenile fiction', 'Amateur ...   NaN   \n",
       "0  {'Housekeeping -- Juvenile fiction', 'Amateur ...   NaN   \n",
       "\n",
       "                                                text  \\\n",
       "0  Proofreaders Canada team at http://www.pgdpcan...   \n",
       "0  Proofreaders Canada team at http://www.pgdpcan...   \n",
       "0  Proofreaders Canada team at http://www.pgdpcan...   \n",
       "0  Proofreaders Canada team at http://www.pgdpcan...   \n",
       "0  Proofreaders Canada team at http://www.pgdpcan...   \n",
       "\n",
       "                                               paras  \n",
       "0  Proofreaders Canada team at http://www.pgdpcan...  \n",
       "0                                                     \n",
       "0                                                     \n",
       "0                              EIGHT GIRLS AND\\n ...  \n",
       "0                                                     "
      ]
     },
     "execution_count": 7,
     "metadata": {},
     "output_type": "execute_result"
    }
   ],
   "source": [
    "df.head()"
   ]
  },
  {
   "cell_type": "code",
   "execution_count": 8,
   "metadata": {},
   "outputs": [
    {
     "name": "stderr",
     "output_type": "stream",
     "text": [
      "/Users/tillschaland/miniconda3/envs/gutenbergDBInit/lib/python3.9/site-packages/tqdm/auto.py:22: TqdmWarning: IProgress not found. Please update jupyter and ipywidgets. See https://ipywidgets.readthedocs.io/en/stable/user_install.html\n",
      "  from .autonotebook import tqdm as notebook_tqdm\n"
     ]
    }
   ],
   "source": [
    "from src.namedentity.namedentities import NamedEntity"
   ]
  },
  {
   "cell_type": "code",
   "execution_count": 9,
   "metadata": {},
   "outputs": [
    {
     "ename": "OSError",
     "evalue": "[E050] Can't find model 'en_core_web_trf'. It doesn't seem to be a Python package or a valid path to a data directory.",
     "output_type": "error",
     "traceback": [
      "\u001b[0;31m---------------------------------------------------------------------------\u001b[0m",
      "\u001b[0;31mOSError\u001b[0m                                   Traceback (most recent call last)",
      "Cell \u001b[0;32mIn[9], line 1\u001b[0m\n\u001b[0;32m----> 1\u001b[0m ner \u001b[39m=\u001b[39m NamedEntity()\n",
      "File \u001b[0;32m~/Project/Gutemberg-Graph-Network/gutenbergCorpus/src/namedentity/namedentities.py:6\u001b[0m, in \u001b[0;36mNamedEntity.__init__\u001b[0;34m(self)\u001b[0m\n\u001b[1;32m      5\u001b[0m \u001b[39mdef\u001b[39;00m \u001b[39m__init__\u001b[39m(\u001b[39mself\u001b[39m) \u001b[39m-\u001b[39m\u001b[39m>\u001b[39m \u001b[39mNone\u001b[39;00m:\n\u001b[0;32m----> 6\u001b[0m     \u001b[39mself\u001b[39m\u001b[39m.\u001b[39mnlp \u001b[39m=\u001b[39m spacy\u001b[39m.\u001b[39;49mload(\u001b[39m\"\u001b[39;49m\u001b[39men_core_web_trf\u001b[39;49m\u001b[39m\"\u001b[39;49m)\n\u001b[1;32m      7\u001b[0m     \u001b[39mself\u001b[39m\u001b[39m.\u001b[39mfilter_words \u001b[39m=\u001b[39m [\u001b[39m\"\u001b[39m\u001b[39mhe\u001b[39m\u001b[39m\"\u001b[39m, \u001b[39m\"\u001b[39m\u001b[39mshe\u001b[39m\u001b[39m\"\u001b[39m, \u001b[39m\"\u001b[39m\u001b[39mwas:--he\u001b[39m\u001b[39m\"\u001b[39m, \u001b[39m\"\u001b[39m\u001b[39mhimself\u001b[39m\u001b[39m\"\u001b[39m, \u001b[39m\"\u001b[39m\u001b[39mherself\u001b[39m\u001b[39m\"\u001b[39m, \u001b[39m\"\u001b[39m\u001b[39mhimself;--\u001b[39m\u001b[39m\"\u001b[39m]\n",
      "File \u001b[0;32m~/miniconda3/envs/gutenbergDBInit/lib/python3.9/site-packages/spacy/__init__.py:54\u001b[0m, in \u001b[0;36mload\u001b[0;34m(name, vocab, disable, enable, exclude, config)\u001b[0m\n\u001b[1;32m     30\u001b[0m \u001b[39mdef\u001b[39;00m \u001b[39mload\u001b[39m(\n\u001b[1;32m     31\u001b[0m     name: Union[\u001b[39mstr\u001b[39m, Path],\n\u001b[1;32m     32\u001b[0m     \u001b[39m*\u001b[39m,\n\u001b[0;32m   (...)\u001b[0m\n\u001b[1;32m     37\u001b[0m     config: Union[Dict[\u001b[39mstr\u001b[39m, Any], Config] \u001b[39m=\u001b[39m util\u001b[39m.\u001b[39mSimpleFrozenDict(),\n\u001b[1;32m     38\u001b[0m ) \u001b[39m-\u001b[39m\u001b[39m>\u001b[39m Language:\n\u001b[1;32m     39\u001b[0m \u001b[39m    \u001b[39m\u001b[39m\"\"\"Load a spaCy model from an installed package or a local path.\u001b[39;00m\n\u001b[1;32m     40\u001b[0m \n\u001b[1;32m     41\u001b[0m \u001b[39m    name (str): Package name or model path.\u001b[39;00m\n\u001b[0;32m   (...)\u001b[0m\n\u001b[1;32m     52\u001b[0m \u001b[39m    RETURNS (Language): The loaded nlp object.\u001b[39;00m\n\u001b[1;32m     53\u001b[0m \u001b[39m    \"\"\"\u001b[39;00m\n\u001b[0;32m---> 54\u001b[0m     \u001b[39mreturn\u001b[39;00m util\u001b[39m.\u001b[39;49mload_model(\n\u001b[1;32m     55\u001b[0m         name,\n\u001b[1;32m     56\u001b[0m         vocab\u001b[39m=\u001b[39;49mvocab,\n\u001b[1;32m     57\u001b[0m         disable\u001b[39m=\u001b[39;49mdisable,\n\u001b[1;32m     58\u001b[0m         enable\u001b[39m=\u001b[39;49menable,\n\u001b[1;32m     59\u001b[0m         exclude\u001b[39m=\u001b[39;49mexclude,\n\u001b[1;32m     60\u001b[0m         config\u001b[39m=\u001b[39;49mconfig,\n\u001b[1;32m     61\u001b[0m     )\n",
      "File \u001b[0;32m~/miniconda3/envs/gutenbergDBInit/lib/python3.9/site-packages/spacy/util.py:439\u001b[0m, in \u001b[0;36mload_model\u001b[0;34m(name, vocab, disable, enable, exclude, config)\u001b[0m\n\u001b[1;32m    437\u001b[0m \u001b[39mif\u001b[39;00m name \u001b[39min\u001b[39;00m OLD_MODEL_SHORTCUTS:\n\u001b[1;32m    438\u001b[0m     \u001b[39mraise\u001b[39;00m \u001b[39mIOError\u001b[39;00m(Errors\u001b[39m.\u001b[39mE941\u001b[39m.\u001b[39mformat(name\u001b[39m=\u001b[39mname, full\u001b[39m=\u001b[39mOLD_MODEL_SHORTCUTS[name]))  \u001b[39m# type: ignore[index]\u001b[39;00m\n\u001b[0;32m--> 439\u001b[0m \u001b[39mraise\u001b[39;00m \u001b[39mIOError\u001b[39;00m(Errors\u001b[39m.\u001b[39mE050\u001b[39m.\u001b[39mformat(name\u001b[39m=\u001b[39mname))\n",
      "\u001b[0;31mOSError\u001b[0m: [E050] Can't find model 'en_core_web_trf'. It doesn't seem to be a Python package or a valid path to a data directory."
     ]
    }
   ],
   "source": [
    "ner = NamedEntity()"
   ]
  },
  {
   "cell_type": "code",
   "execution_count": null,
   "metadata": {},
   "outputs": [],
   "source": [
    "df.to_json()"
   ]
  }
 ],
 "metadata": {
  "kernelspec": {
   "display_name": "gutenbergDBInit",
   "language": "python",
   "name": "python3"
  },
  "language_info": {
   "codemirror_mode": {
    "name": "ipython",
    "version": 3
   },
   "file_extension": ".py",
   "mimetype": "text/x-python",
   "name": "python",
   "nbconvert_exporter": "python",
   "pygments_lexer": "ipython3",
   "version": "3.9.16"
  },
  "orig_nbformat": 4,
  "vscode": {
   "interpreter": {
    "hash": "0fdd12e798aac36911c7ea45b2c81acf456c3119c144440aafc6fd0c360b117c"
   }
  }
 },
 "nbformat": 4,
 "nbformat_minor": 2
}
