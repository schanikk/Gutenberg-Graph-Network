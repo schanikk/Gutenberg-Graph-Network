{
 "cells": [
  {
   "cell_type": "code",
   "execution_count": 37,
   "metadata": {},
   "outputs": [
    {
     "name": "stdout",
     "output_type": "stream",
     "text": [
      "/Users/tillschaland/Project/Gutemberg-Graph-Network/gutenbergCorpus\n"
     ]
    }
   ],
   "source": [
    "%cd /Users/tillschaland/Project/Gutemberg-Graph-Network/GutenbergCorpus/"
   ]
  },
  {
   "cell_type": "code",
   "execution_count": 38,
   "metadata": {},
   "outputs": [],
   "source": [
    "import pandas as pd\n",
    "import  os\n",
    "import definitions"
   ]
  },
  {
   "cell_type": "code",
   "execution_count": 39,
   "metadata": {},
   "outputs": [],
   "source": [
    "df  = pd.read_csv(\"./metadata/metadata.csv\")"
   ]
  },
  {
   "cell_type": "code",
   "execution_count": 40,
   "metadata": {},
   "outputs": [
    {
     "ename": "AttributeError",
     "evalue": "module 'definitions' has no attribute 'TEXT_DIR'",
     "output_type": "error",
     "traceback": [
      "\u001b[0;31m---------------------------------------------------------------------------\u001b[0m",
      "\u001b[0;31mAttributeError\u001b[0m                            Traceback (most recent call last)",
      "Cell \u001b[0;32mIn[40], line 1\u001b[0m\n\u001b[0;32m----> 1\u001b[0m datadir \u001b[39m=\u001b[39m definitions\u001b[39m.\u001b[39;49mTEXT_DIR\n\u001b[1;32m      3\u001b[0m \u001b[39mdef\u001b[39;00m \u001b[39mgetCurrentFiles\u001b[39m():\n\u001b[1;32m      4\u001b[0m     os\u001b[39m.\u001b[39mpath\n",
      "\u001b[0;31mAttributeError\u001b[0m: module 'definitions' has no attribute 'TEXT_DIR'"
     ]
    }
   ],
   "source": [
    "datadir = definitions.TEXT_DIR\n",
    "\n",
    "def getCurrentFiles():\n",
    "    os.path"
   ]
  },
  {
   "cell_type": "code",
   "execution_count": null,
   "metadata": {},
   "outputs": [
    {
     "data": {
      "text/plain": [
       "'/Users/tillschaland/Project/Gutemberg-Graph-Network/gutenbergCorpus/data/'"
      ]
     },
     "execution_count": 31,
     "metadata": {},
     "output_type": "execute_result"
    }
   ],
   "source": [
    "datadir"
   ]
  },
  {
   "cell_type": "code",
   "execution_count": null,
   "metadata": {},
   "outputs": [],
   "source": [
    "first_init = df[:20]"
   ]
  },
  {
   "cell_type": "code",
   "execution_count": null,
   "metadata": {},
   "outputs": [],
   "source": [
    "df = df.set_index('id')"
   ]
  },
  {
   "cell_type": "code",
   "execution_count": null,
   "metadata": {},
   "outputs": [
    {
     "data": {
      "text/html": [
       "<div>\n",
       "<style scoped>\n",
       "    .dataframe tbody tr th:only-of-type {\n",
       "        vertical-align: middle;\n",
       "    }\n",
       "\n",
       "    .dataframe tbody tr th {\n",
       "        vertical-align: top;\n",
       "    }\n",
       "\n",
       "    .dataframe thead th {\n",
       "        text-align: right;\n",
       "    }\n",
       "</style>\n",
       "<table border=\"1\" class=\"dataframe\">\n",
       "  <thead>\n",
       "    <tr style=\"text-align: right;\">\n",
       "      <th></th>\n",
       "      <th>title</th>\n",
       "      <th>author</th>\n",
       "      <th>authoryearofbirth</th>\n",
       "      <th>authoryearofdeath</th>\n",
       "      <th>language</th>\n",
       "      <th>downloads</th>\n",
       "      <th>subjects</th>\n",
       "      <th>type</th>\n",
       "    </tr>\n",
       "    <tr>\n",
       "      <th>id</th>\n",
       "      <th></th>\n",
       "      <th></th>\n",
       "      <th></th>\n",
       "      <th></th>\n",
       "      <th></th>\n",
       "      <th></th>\n",
       "      <th></th>\n",
       "      <th></th>\n",
       "    </tr>\n",
       "  </thead>\n",
       "  <tbody>\n",
       "    <tr>\n",
       "      <th>PG38</th>\n",
       "      <td>The Jargon File, Version 2.9.10, 01 Jul 1992</td>\n",
       "      <td>NaN</td>\n",
       "      <td>NaN</td>\n",
       "      <td>NaN</td>\n",
       "      <td>['en']</td>\n",
       "      <td>78</td>\n",
       "      <td>{'Computers -- Humor', 'Computers -- Slang -- ...</td>\n",
       "      <td>NaN</td>\n",
       "    </tr>\n",
       "    <tr>\n",
       "      <th>PG10001</th>\n",
       "      <td>Apocolocyntosis</td>\n",
       "      <td>Seneca, Lucius Annaeus</td>\n",
       "      <td>NaN</td>\n",
       "      <td>65.0</td>\n",
       "      <td>['en']</td>\n",
       "      <td>356</td>\n",
       "      <td>{'Claudius, Emperor of Rome, 10 B.C.-54 A.D. -...</td>\n",
       "      <td>NaN</td>\n",
       "    </tr>\n",
       "    <tr>\n",
       "      <th>PG10000</th>\n",
       "      <td>The Magna Carta</td>\n",
       "      <td>Anonymous</td>\n",
       "      <td>NaN</td>\n",
       "      <td>NaN</td>\n",
       "      <td>['en']</td>\n",
       "      <td>205</td>\n",
       "      <td>{'Magna Carta', 'Constitutional history -- Eng...</td>\n",
       "      <td>NaN</td>\n",
       "    </tr>\n",
       "  </tbody>\n",
       "</table>\n",
       "</div>"
      ],
      "text/plain": [
       "                                                title                  author  \\\n",
       "id                                                                              \n",
       "PG38     The Jargon File, Version 2.9.10, 01 Jul 1992                     NaN   \n",
       "PG10001                               Apocolocyntosis  Seneca, Lucius Annaeus   \n",
       "PG10000                               The Magna Carta               Anonymous   \n",
       "\n",
       "         authoryearofbirth  authoryearofdeath language  downloads  \\\n",
       "id                                                                  \n",
       "PG38                   NaN                NaN   ['en']         78   \n",
       "PG10001                NaN               65.0   ['en']        356   \n",
       "PG10000                NaN                NaN   ['en']        205   \n",
       "\n",
       "                                                  subjects type  \n",
       "id                                                               \n",
       "PG38     {'Computers -- Humor', 'Computers -- Slang -- ...  NaN  \n",
       "PG10001  {'Claudius, Emperor of Rome, 10 B.C.-54 A.D. -...  NaN  \n",
       "PG10000  {'Magna Carta', 'Constitutional history -- Eng...  NaN  "
      ]
     },
     "execution_count": 34,
     "metadata": {},
     "output_type": "execute_result"
    }
   ],
   "source": [
    "df.filter(items=['PG38', 'PG10001', 'PG10000'], axis=0)"
   ]
  },
  {
   "cell_type": "code",
   "execution_count": null,
   "metadata": {},
   "outputs": [],
   "source": [
    "def DataLoader(filename):\n",
    "    path = os.path.join(datadir, filename+'_text.txt')\n",
    "    with open(path) as f:\n",
    "        d = f.read()\n",
    "\n",
    "    return d"
   ]
  },
  {
   "cell_type": "code",
   "execution_count": null,
   "metadata": {},
   "outputs": [
    {
     "ename": "FileNotFoundError",
     "evalue": "[Errno 2] No such file or directory: '/Users/tillschaland/Project/Gutemberg-Graph-Network/gutenbergCorpus/data/PG10000_text.txt'",
     "output_type": "error",
     "traceback": [
      "\u001b[0;31m---------------------------------------------------------------------------\u001b[0m",
      "\u001b[0;31mFileNotFoundError\u001b[0m                         Traceback (most recent call last)",
      "Cell \u001b[0;32mIn[36], line 3\u001b[0m\n\u001b[1;32m      1\u001b[0m text_series \u001b[39m=\u001b[39m \u001b[39mdict\u001b[39m()\n\u001b[1;32m      2\u001b[0m \u001b[39mfor\u001b[39;00m i, row \u001b[39min\u001b[39;00m df\u001b[39m.\u001b[39miterrows():\n\u001b[0;32m----> 3\u001b[0m     text_series[i] \u001b[39m=\u001b[39m DataLoader(i)\n\u001b[1;32m      5\u001b[0m df[\u001b[39m'\u001b[39m\u001b[39mtext\u001b[39m\u001b[39m'\u001b[39m] \u001b[39m=\u001b[39m text_series\n",
      "Cell \u001b[0;32mIn[35], line 3\u001b[0m, in \u001b[0;36mDataLoader\u001b[0;34m(filename)\u001b[0m\n\u001b[1;32m      1\u001b[0m \u001b[39mdef\u001b[39;00m \u001b[39mDataLoader\u001b[39m(filename):\n\u001b[1;32m      2\u001b[0m     path \u001b[39m=\u001b[39m os\u001b[39m.\u001b[39mpath\u001b[39m.\u001b[39mjoin(datadir, filename\u001b[39m+\u001b[39m\u001b[39m'\u001b[39m\u001b[39m_text.txt\u001b[39m\u001b[39m'\u001b[39m)\n\u001b[0;32m----> 3\u001b[0m     \u001b[39mwith\u001b[39;00m \u001b[39mopen\u001b[39;49m(path) \u001b[39mas\u001b[39;00m f:\n\u001b[1;32m      4\u001b[0m         d \u001b[39m=\u001b[39m f\u001b[39m.\u001b[39mread()\n\u001b[1;32m      6\u001b[0m     \u001b[39mreturn\u001b[39;00m d\n",
      "File \u001b[0;32m~/miniconda3/envs/gutenbergDBInit/lib/python3.9/site-packages/IPython/core/interactiveshell.py:282\u001b[0m, in \u001b[0;36m_modified_open\u001b[0;34m(file, *args, **kwargs)\u001b[0m\n\u001b[1;32m    275\u001b[0m \u001b[39mif\u001b[39;00m file \u001b[39min\u001b[39;00m {\u001b[39m0\u001b[39m, \u001b[39m1\u001b[39m, \u001b[39m2\u001b[39m}:\n\u001b[1;32m    276\u001b[0m     \u001b[39mraise\u001b[39;00m \u001b[39mValueError\u001b[39;00m(\n\u001b[1;32m    277\u001b[0m         \u001b[39mf\u001b[39m\u001b[39m\"\u001b[39m\u001b[39mIPython won\u001b[39m\u001b[39m'\u001b[39m\u001b[39mt let you open fd=\u001b[39m\u001b[39m{\u001b[39;00mfile\u001b[39m}\u001b[39;00m\u001b[39m by default \u001b[39m\u001b[39m\"\u001b[39m\n\u001b[1;32m    278\u001b[0m         \u001b[39m\"\u001b[39m\u001b[39mas it is likely to crash IPython. If you know what you are doing, \u001b[39m\u001b[39m\"\u001b[39m\n\u001b[1;32m    279\u001b[0m         \u001b[39m\"\u001b[39m\u001b[39myou can use builtins\u001b[39m\u001b[39m'\u001b[39m\u001b[39m open.\u001b[39m\u001b[39m\"\u001b[39m\n\u001b[1;32m    280\u001b[0m     )\n\u001b[0;32m--> 282\u001b[0m \u001b[39mreturn\u001b[39;00m io_open(file, \u001b[39m*\u001b[39;49margs, \u001b[39m*\u001b[39;49m\u001b[39m*\u001b[39;49mkwargs)\n",
      "\u001b[0;31mFileNotFoundError\u001b[0m: [Errno 2] No such file or directory: '/Users/tillschaland/Project/Gutemberg-Graph-Network/gutenbergCorpus/data/PG10000_text.txt'"
     ]
    }
   ],
   "source": [
    "text_series = dict()\n",
    "for i, row in df.iterrows():\n",
    "    text_series[i] = DataLoader(i)\n",
    "\n",
    "df['text'] = text_series"
   ]
  },
  {
   "cell_type": "code",
   "execution_count": null,
   "metadata": {},
   "outputs": [
    {
     "data": {
      "text/html": [
       "<div>\n",
       "<style scoped>\n",
       "    .dataframe tbody tr th:only-of-type {\n",
       "        vertical-align: middle;\n",
       "    }\n",
       "\n",
       "    .dataframe tbody tr th {\n",
       "        vertical-align: top;\n",
       "    }\n",
       "\n",
       "    .dataframe thead th {\n",
       "        text-align: right;\n",
       "    }\n",
       "</style>\n",
       "<table border=\"1\" class=\"dataframe\">\n",
       "  <thead>\n",
       "    <tr style=\"text-align: right;\">\n",
       "      <th></th>\n",
       "      <th>id</th>\n",
       "      <th>title</th>\n",
       "      <th>author</th>\n",
       "      <th>authoryearofbirth</th>\n",
       "      <th>authoryearofdeath</th>\n",
       "      <th>language</th>\n",
       "      <th>downloads</th>\n",
       "      <th>subjects</th>\n",
       "      <th>type</th>\n",
       "    </tr>\n",
       "  </thead>\n",
       "  <tbody>\n",
       "    <tr>\n",
       "      <th>32167</th>\n",
       "      <td>PG38</td>\n",
       "      <td>The Jargon File, Version 2.9.10, 01 Jul 1992</td>\n",
       "      <td>NaN</td>\n",
       "      <td>NaN</td>\n",
       "      <td>NaN</td>\n",
       "      <td>['en']</td>\n",
       "      <td>78</td>\n",
       "      <td>{'Computers -- Humor', 'Computers -- Slang -- ...</td>\n",
       "      <td>NaN</td>\n",
       "    </tr>\n",
       "  </tbody>\n",
       "</table>\n",
       "</div>"
      ],
      "text/plain": [
       "         id                                         title author  \\\n",
       "32167  PG38  The Jargon File, Version 2.9.10, 01 Jul 1992    NaN   \n",
       "\n",
       "       authoryearofbirth  authoryearofdeath language  downloads  \\\n",
       "32167                NaN                NaN   ['en']         78   \n",
       "\n",
       "                                                subjects type  \n",
       "32167  {'Computers -- Humor', 'Computers -- Slang -- ...  NaN  "
      ]
     },
     "execution_count": 10,
     "metadata": {},
     "output_type": "execute_result"
    }
   ],
   "source": [
    "df[df.id == 'PG38']"
   ]
  },
  {
   "cell_type": "code",
   "execution_count": null,
   "metadata": {},
   "outputs": [],
   "source": []
  }
 ],
 "metadata": {
  "kernelspec": {
   "display_name": "gutenbergDBInit",
   "language": "python",
   "name": "python3"
  },
  "language_info": {
   "codemirror_mode": {
    "name": "ipython",
    "version": 3
   },
   "file_extension": ".py",
   "mimetype": "text/x-python",
   "name": "python",
   "nbconvert_exporter": "python",
   "pygments_lexer": "ipython3",
   "version": "3.9.16"
  },
  "orig_nbformat": 4,
  "vscode": {
   "interpreter": {
    "hash": "0fdd12e798aac36911c7ea45b2c81acf456c3119c144440aafc6fd0c360b117c"
   }
  }
 },
 "nbformat": 4,
 "nbformat_minor": 2
}
